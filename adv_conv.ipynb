{
 "cells": [
  {
   "cell_type": "code",
   "execution_count": 5,
   "metadata": {},
   "outputs": [
    {
     "name": "stdout",
     "output_type": "stream",
     "text": [
      "torch.Size([1, 256, 256]) torch.Size([2, 256, 256])\n"
     ]
    }
   ],
   "source": [
    "import torch\n",
    "import pygame\n",
    "import numpy as np\n",
    "import cv2\n",
    "\n",
    "\n",
    "# Parameters\n",
    "width, height = 256, 256  # Grid size\n",
    "D = 0.1  # Diffusion coefficient\n",
    "nu = 0.01  # Kinematic viscosity\n",
    "dt = 0.01  # Time step\n",
    "scale = 2\n",
    "\n",
    "# Desired FPS\n",
    "fps = 60\n",
    "# Set up video writer\n",
    "video_filename = 'simulation_video.avi'\n",
    "frame_size = (width*scale, height*scale)\n",
    "video_writer = cv2.VideoWriter(video_filename, cv2.VideoWriter_fourcc(*'XVID'), fps, frame_size)\n",
    "# Initialize density and velocity fields\n",
    "rho = torch.rand((1, width, height), dtype=torch.float32).cuda()\n",
    "u = torch.randn((2, width, height), dtype=torch.float32).cuda()  # 2 for 2D velocity components\n",
    "print(rho.shape, u.shape)\n",
    "class Update(torch.nn.Module):\n",
    "    def __init__(self, D, nu, dt, alpha = 9):\n",
    "        super().__init__()\n",
    "        self.D = D\n",
    "        self.nu = nu\n",
    "        self.dt = dt\n",
    "        self.alpha = alpha\n",
    "        self.conv = torch.nn.Conv2d(1, 1, 3, padding=1, bias=False)\n",
    "        self.conv.weight.data = torch.tensor([[[[1/self.alpha, 1/self.alpha, 1/self.alpha], [1/self.alpha, 0, 1/self.alpha], [1/self.alpha, 1/self.alpha, 1/self.alpha]]]], dtype=torch.float32)\n",
    "        self.conv.weight.requires_grad = False\n",
    "\n",
    "        self.rho_conv = torch.nn.Conv2d(3, 1, 3, padding=1, bias=False)\n",
    "        self.u_conv = torch.nn.Conv2d(3, 2, 3, padding=1, bias=False)\n",
    "        # self.u_conv.weight.data = torch.tensor([[[[1/self.alpha, 1/self.alpha, 1/self.alpha], [1/self.alpha, 0, 1/self.alpha], [1/self.alpha, 1/self.alpha, 1/self.alpha]]]], dtype=torch.float32)\n",
    "    def forward(self, rho, u):\n",
    "        # Implement discretization and update equations here\n",
    "        # This is a placeholder for the actual logic\n",
    "        # rho = rho + self.rho_conv(torch.cat((rho.unsqueeze(0), rho.unsqueeze(0), rho.unsqueeze(0)), dim=0))*self.dt*self.D\n",
    "        rho_u = torch.cat((rho, u), dim=0)\n",
    "        # print(rho_u.shape)\n",
    "        rho = rho + self.rho_conv(rho_u)*self.dt*self.D\n",
    "        u = u + self.u_conv(rho_u)*self.dt*self.nu\n",
    "        return rho, u\n",
    "\n"
   ]
  },
  {
   "cell_type": "code",
   "execution_count": 6,
   "metadata": {},
   "outputs": [
    {
     "name": "stdout",
     "output_type": "stream",
     "text": [
      "Convs updated\n"
     ]
    }
   ],
   "source": [
    "# Pygame setup\n",
    "pygame.init()\n",
    "screen = pygame.display.set_mode((width*2, height*2))\n",
    "update = Update(D, nu, dt).cuda()\n",
    "running = True\n",
    "while running:\n",
    "    for event in pygame.event.get():\n",
    "        if event.type == pygame.QUIT:\n",
    "            running = False\n",
    "        elif event.type == pygame.KEYDOWN:\n",
    "            if event.key == pygame.K_t:  # 'T' key pressed\n",
    "                update.rho_conv = torch.nn.Conv2d(3, 1, 3, padding=1, bias=False).cuda()\n",
    "                update.u_conv = torch.nn.Conv2d(3, 2, 3, padding=1, bias=False).cuda()\n",
    "                rho = torch.rand((1, width, height), dtype=torch.float32).cuda()\n",
    "                u = torch.randn((2, width, height), dtype=torch.float32).cuda()  # 2 for 2D velocity components\n",
    "                print(\"Convs updated\")\n",
    "    # Update rho and u\n",
    "    rho, u = update(rho, u)\n",
    "    # print(rho.shape, u.shape)\n",
    "    # Visualization (simplified example)\n",
    "    # Convert rho to a numpy array and scale it for visualization\n",
    "# Assuming rho is your 2D array representing grayscale values\n",
    "    vis_rho = np.clip(rho.cpu().detach().numpy(), 0, 1)  # Clipping the values between 0 and 1\n",
    "    vis_rho = np.uint8(vis_rho * 255).repeat(3, axis=0).reshape(width, height, 3)  # Convert to 8-bit integer\n",
    "\n",
    "    # Check the shape\n",
    "    # print(\"Shape of vis_rho:\", vis_rho.shape)\n",
    "\n",
    "    # # Ensure it's 2D (for grayscale)\n",
    "    # if len(vis_rho.shape) == 2:\n",
    "    #     # Create the surface\n",
    "    #     screen_surface = pygame.surfarray.make_surface(vis_rho)\n",
    "    #     screen.blit(screen_surface, (0, 0))\n",
    "    #     pygame.display.flip()\n",
    "    # else:\n",
    "    #     raise ValueError(\"vis_rho is not a valid 2D array\")\n",
    "    # Now create the surface\n",
    "    screen_surface = pygame.surfarray.make_surface(vis_rho)\n",
    "    screen_surface = pygame.transform.scale(screen_surface, (2*width, 2*height))\n",
    "    screen.blit(screen_surface, (0, 0))\n",
    "    pygame.display.flip()\n",
    "    frame = pygame.surfarray.array3d(pygame.display.get_surface())\n",
    "    frame = frame.transpose([1, 0, 2])  # Transpose it into the correct format for OpenCV\n",
    "    video_writer.write(cv2.cvtColor(frame, cv2.COLOR_RGB2BGR))  # Convert to BGR for OpenCV\n",
    "video_writer.release()    \n",
    "pygame.quit()\n"
   ]
  },
  {
   "cell_type": "code",
   "execution_count": null,
   "metadata": {},
   "outputs": [],
   "source": []
  }
 ],
 "metadata": {
  "kernelspec": {
   "display_name": "Python 3",
   "language": "python",
   "name": "python3"
  },
  "language_info": {
   "codemirror_mode": {
    "name": "ipython",
    "version": 3
   },
   "file_extension": ".py",
   "mimetype": "text/x-python",
   "name": "python",
   "nbconvert_exporter": "python",
   "pygments_lexer": "ipython3",
   "version": "3.10.6"
  }
 },
 "nbformat": 4,
 "nbformat_minor": 2
}
