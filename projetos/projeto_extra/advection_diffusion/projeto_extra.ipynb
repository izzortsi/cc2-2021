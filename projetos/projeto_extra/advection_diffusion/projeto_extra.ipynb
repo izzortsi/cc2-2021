{
 "cells": [
  {
   "cell_type": "markdown",
   "metadata": {},
   "source": [
    "# **Projeto Extra: Computação Científica II - 2023**\n",
    "##### **Data**: xx - 12/12/2023\n",
    "##### **Alune**: Igor Lima Strozzi\n",
    "##### **DRE**: 112040449"
   ]
  },
  {
   "cell_type": "markdown",
   "metadata": {},
   "source": []
  }
 ],
 "metadata": {
  "language_info": {
   "name": "python"
  }
 },
 "nbformat": 4,
 "nbformat_minor": 2
}
