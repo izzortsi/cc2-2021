{
 "cells": [
  {
   "cell_type": "code",
   "execution_count": 1,
   "metadata": {},
   "outputs": [],
   "source": [
    "\n",
    "import os\n",
    "import numpy as np\n",
    "import numpy.linalg as la\n",
    "import matplotlib.animation as animation\n",
    "from IPython.display import HTML\n",
    "from matplotlib import pyplot as plt\n",
    "from matplotlib import rc\n",
    "from explicit_rk import ExplicitRungeKutta, integrators\n",
    "\n"
   ]
  },
  {
   "cell_type": "code",
   "execution_count": 2,
   "metadata": {},
   "outputs": [],
   "source": [
    "\n",
    "# program parameters (untested for N_BODIES > 3 or DIMENSION != 2)\n",
    "N_BODIES = 3\n",
    "DIMENSION = 2\n",
    "CHOREOGRAPHY_NUM = \"22\"\n",
    "CHOREOGRAPHIES = {\n",
    "    \"2\": {\"v\": np.array([0.322184765624991, 0.647989160156249]), \"T\": 51.3958},\n",
    "    \"3\": {\"v\": np.array([0.257841699218752, 0.687880761718747]), \"T\": 55.6431},\n",
    "    \"4\": {\"v\": np.array([0.568991007042164, 0.449428951346711]), \"T\": 51.9645},\n",
    "    \"22\": {\"v\": np.array([0.698073236083981, 0.328500769042967]), \"T\": 100.846},\n",
    "}\n",
    "\n",
    "# animation parameters\n",
    "SAVE = False  # if the animation is to be saved as a .mp4 file (rendering might take some time)\n",
    "DPI = 75 #quality parameters: higher values lead to higher rendering times\n",
    "BITRATE = 800 #quality parameters: higher values lead to higher rendering times\n",
    "FPS = None\n",
    "INTERVAL = 5\n",
    "EXTRA_ARGS = [\"-vcodec\", \"libx264\"]"
   ]
  },
  {
   "cell_type": "code",
   "execution_count": 3,
   "metadata": {},
   "outputs": [],
   "source": [
    "\n",
    "# simulation parameters\n",
    "\n",
    "v0s = CHOREOGRAPHIES[CHOREOGRAPHY_NUM][\"v\"]\n",
    "y0 = np.array(\n",
    "    [\n",
    "        -1,\n",
    "        0,\n",
    "        v0s[0],\n",
    "        v0s[1],\n",
    "        1,\n",
    "        0,\n",
    "        v0s[0],\n",
    "        v0s[1],\n",
    "        0,\n",
    "        0,\n",
    "        -2 * v0s[0],\n",
    "        -2 * v0s[1],\n",
    "    ]\n",
    ")\n",
    "\n",
    "h = 0.01\n",
    "t0 = 0\n",
    "tf = CHOREOGRAPHIES[CHOREOGRAPHY_NUM][\"T\"] / 2\n"
   ]
  },
  {
   "cell_type": "code",
   "execution_count": 4,
   "metadata": {},
   "outputs": [],
   "source": [
    "\n",
    "# integrator\n",
    "integrators\n",
    "rk4 = integrators[\"RK4\"]()\n",
    "\n",
    "\n",
    "def Fij(ri, rj):\n",
    "    rel_r = rj - ri\n",
    "    return (1 / la.norm(rel_r, ord=2) ** 3) * rel_r\n",
    "\n",
    "\n",
    "def F(t, y):\n",
    "    _y = np.reshape(y, (N_BODIES, DIMENSION, 2))\n",
    "    out = np.zeros_like(_y)\n",
    "\n",
    "    for i, body_state_i in enumerate(_y):\n",
    "        for j, body_state_j in enumerate(_y):\n",
    "            if i != j:\n",
    "                out[i][0] = _y[i][1]\n",
    "                out[i][1] += Fij(_y[i][0], _y[j][0])\n",
    "    return out.flatten()\n",
    "\n"
   ]
  },
  {
   "cell_type": "code",
   "execution_count": 5,
   "metadata": {},
   "outputs": [],
   "source": [
    "\n",
    "ts, ys = rk4.solve(F, t0, tf, y0, h)\n",
    "\n",
    "NUM_TS = len(ts)\n",
    "\n",
    "_ys = ys.reshape((NUM_TS, N_BODIES, 4))\n",
    "\n",
    "orbit_1 = _ys[:, 0, :2]\n",
    "orbit_2 = _ys[:, 1, :2]\n",
    "orbit_3 = _ys[:, 2, :2]\n",
    "\n",
    "orbits = [orbit_1, orbit_2, orbit_3]\n"
   ]
  },
  {
   "cell_type": "code",
   "execution_count": 6,
   "metadata": {},
   "outputs": [
    {
     "data": {
      "image/png": "[encoded data removed]",
      "text/plain": [
       "<Figure size 720x720 with 1 Axes>"
      ]
     },
     "metadata": {
      "needs_background": "light"
     },
     "output_type": "display_data"
    }
   ],
   "source": [
    "\n",
    "fig, ax = plt.subplots(figsize=(10, 10))\n",
    "\n"
   ]
  },
  {
   "cell_type": "code",
   "execution_count": 7,
   "metadata": {},
   "outputs": [],
   "source": [
    "def init_plot():\n",
    "    ax.set_xlim((-4, 4))\n",
    "    ax.set_ylim((-4, 4))\n",
    "    mass1 = ax.plot(\n",
    "        [],\n",
    "        [],\n",
    "        animated=True,\n",
    "        c=\"red\",\n",
    "        marker=\"o\",\n",
    "        markersize=10,\n",
    "    )\n",
    "    trail1 = ax.plot(\n",
    "        [],\n",
    "        [],\n",
    "        \"--\",\n",
    "        animated=True,\n",
    "        c=\"red\",\n",
    "        lw=0.4,\n",
    "        alpha=0.5,\n",
    "    )\n",
    "\n",
    "    mass2 = ax.plot(\n",
    "        [],\n",
    "        [],\n",
    "        animated=True,\n",
    "        c=\"green\",\n",
    "        marker=\"o\",\n",
    "        markersize=10,\n",
    "    )\n",
    "    trail2 = ax.plot(\n",
    "        [],\n",
    "        [],\n",
    "        \"--\",\n",
    "        animated=True,\n",
    "        c=\"green\",\n",
    "        lw=0.4,\n",
    "        alpha=0.5,\n",
    "    )\n",
    "\n",
    "    mass3 = ax.plot(\n",
    "        [],\n",
    "        [],\n",
    "        animated=True,\n",
    "        c=\"blue\",\n",
    "        marker=\"o\",\n",
    "        markersize=10,\n",
    "    )\n",
    "\n",
    "    trail3 = ax.plot(\n",
    "        [],\n",
    "        [],\n",
    "        \"--\",\n",
    "        animated=True,\n",
    "        c=\"blue\",\n",
    "        lw=0.4,\n",
    "        alpha=0.5,\n",
    "    )\n",
    "\n",
    "    return [mass1[0], trail1[0], mass2[0], trail2[0], mass3[0], trail3[0]]\n",
    "\n",
    "def update(num, orbits, ax):\n",
    "\n",
    "    for i, orbit in enumerate(orbits):\n",
    "        mass = ax.lines[2 * i]\n",
    "        trail = ax.lines[2 * i + 1]\n",
    "        mass.set_data(orbit[num, 0], orbit[num, 1])\n",
    "        trail.set_data(orbit[:num, 0], orbit[:num, 1])\n",
    "    return ax.lines\n",
    "\n",
    "\n",
    "anim = animation.FuncAnimation(\n",
    "    fig,\n",
    "    update,\n",
    "    init_func=init_plot,\n",
    "    frames=NUM_TS,\n",
    "    fargs=(orbits, ax),\n",
    "    interval=INTERVAL,\n",
    "    blit=True,\n",
    ")"
   ]
  },
  {
   "cell_type": "code",
   "execution_count": null,
   "metadata": {},
   "outputs": [],
   "source": [
    "if SAVE == True:\n",
    "    file_path = os.path.join(\n",
    "        \"outputs\", f\"3-body-choreography_num{CHOREOGRAPHY_NUM}.mp4\"\n",
    "    )\n",
    "    anim.save(\n",
    "        file_path,\n",
    "        fps=FPS,\n",
    "        dpi=DPI,\n",
    "        bitrate=BITRATE,\n",
    "        extra_args=EXTRA_ARGS,\n",
    "    )\n",
    "else:\n",
    "    rc('animation', html='html5')\n",
    "    #HTML(anim.to_html5_video())\n",
    "anim\n"
   ]
  },
  {
   "cell_type": "code",
   "execution_count": null,
   "metadata": {},
   "outputs": [],
   "source": []
  }
 ],
 "metadata": {
  "interpreter": {
   "hash": "4b5ce8282900814300e1312c062044be19f49f8c6317261a9d14d090c3c7f8ea"
  },
  "kernelspec": {
   "display_name": "Python 3",
   "language": "python",
   "name": "python3"
  },
  "language_info": {
   "codemirror_mode": {
    "name": "ipython",
    "version": 3
   },
   "file_extension": ".py",
   "mimetype": "text/x-python",
   "name": "python",
   "nbconvert_exporter": "python",
   "pygments_lexer": "ipython3",
   "version": "3.9.2"
  }
 },
 "nbformat": 4,
 "nbformat_minor": 2
}
