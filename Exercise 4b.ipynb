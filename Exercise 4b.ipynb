{
 "cells": [
  {
   "cell_type": "markdown",
   "id": "03b051eb",
   "metadata": {},
   "source": [
    "## 1\n",
    "\n",
    "$$\n",
    "\\frac{d\\mathbf{u}}{dt} = f(\\mathbf{u}),\\ \\ \\ \\ \\mathbf{u}(0) = \\mathbf{u}_0\\\\\n",
    "\\mathbf{u} = \\mathbf{b} + \\delta\\mathbf{u},\\ \\ \\ \\ \\frac{d\\delta\\mathbf{u}}{dt} = J\\delta\\mathbf{u} +\\mathbf{c}\n",
    "$$\n",
    "\n",
    "$$\n",
    "\\begin{align}\n",
    "\\mathbf{u}_{n+1} &=\\mathbf{u}_{n}+hA\\mathbf{u}_{n}\\\\\n",
    "\\delta\\mathbf{u}_{n+1} - \\mathbf{b} &= \\delta\\mathbf{u}_{n} - \\mathbf{b} + h(J\\delta\\mathbf{u}_{n} +\\mathbf{c})\\\\\n",
    "\\delta\\mathbf{u}_{n+1} &= \\delta\\mathbf{u}_{n} + hJ\\delta\\mathbf{u}_{n} +h\\mathbf{c}\\\\\n",
    "\\end{align}\n",
    "$$\n",
    "\n",
    "Define another vector sequence $\\delta\\mathbf{v}$ by the relation $\\delta\\mathbf{u} = \\delta\\mathbf{v}-J^{-1}\\mathbf{c}$ and substitute in the previous equation\n",
    "$$\n",
    "\\begin{align}\n",
    "\\delta\\mathbf{v}_{n+1}-J^{-1}\\mathbf{c} &= \\delta\\mathbf{v}_n-J^{-1}\\mathbf{c} + hJ(\\delta\\mathbf{v}_{n}-J^{-1}\\mathbf{c}) +h\\mathbf{c}\\\\\n",
    "\\delta\\mathbf{v}_{n+1} &= \\delta\\mathbf{v}_{n} + hJ\\delta\\mathbf{v}_{n} - hJJ^{-1}\\mathbf{c}+h\\mathbf{c}\\\\\n",
    "\\delta\\mathbf{v}_{n+1} &= \\delta\\mathbf{v}_{n} + hJ\\delta\\mathbf{v}_{n}-h\\mathbf{c}+h\\mathbf{c}\\\\\n",
    "\\delta\\mathbf{v}_{n+1} &= \\delta\\mathbf{v}_{n} + hJ\\delta\\mathbf{v}_{n}\n",
    "\\end{align}\n",
    "$$\n",
    "\n",
    "Suppose $J$ is diagonalizable, therefore we can write $J=S\\Lambda S^{-1}$. Likewise above, define the sequence $\\delta\\mathbf{\\zeta}$ by the relation $\\delta\\mathbf{v} = S\\delta\\mathbf{\\zeta}$.\n",
    "\n",
    "$$\n",
    "\\begin{align}\n",
    "S\\delta\\mathbf{\\zeta}_{n+1}&= S\\delta\\mathbf{\\zeta}_n + hJS\\delta\\mathbf{\\zeta}_n\\\\\n",
    "S\\delta\\mathbf{\\zeta}_{n+1}&= S\\delta\\mathbf{\\zeta}_n + hS\\Lambda\\delta\\mathbf{\\zeta}_n\\\\\n",
    "\\delta\\mathbf{\\zeta}_{n+1}&= \\delta\\mathbf{\\zeta}_n + h\\Lambda\\delta\\mathbf{\\zeta}_n\\\\\n",
    "\\delta\\mathbf{\\zeta}_{n+1}&= (\\mathbf{I}+ h\\Lambda)\\delta\\mathbf{\\zeta}_n\\\\\n",
    "\\end{align}\n",
    "$$\n",
    "\n",
    "Therefore, we have a system of uncoupled equations which obeys the same stability criteria as the scalar ones. "
   ]
  }
 ],
 "metadata": {
  "kernelspec": {
   "display_name": "Python 3 (ipykernel)",
   "language": "python",
   "name": "python3"
  },
  "language_info": {
   "codemirror_mode": {
    "name": "ipython",
    "version": 3
   },
   "file_extension": ".py",
   "mimetype": "text/x-python",
   "name": "python",
   "nbconvert_exporter": "python",
   "pygments_lexer": "ipython3",
   "version": "3.11.4"
  }
 },
 "nbformat": 4,
 "nbformat_minor": 5
}
