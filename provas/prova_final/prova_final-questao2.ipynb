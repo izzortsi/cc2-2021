{
 "cells": [
  {
   "cell_type": "markdown",
   "metadata": {},
   "source": [
    "# **Prova Final: Computação Científica II - 2023**\n",
    "##### **Data**: 30/11/2023 - 03/12/2023\n",
    "##### **Alune**: Igor Lima Strozzi\n",
    "##### **DRE**: 112040449"
   ]
  },
  {
   "cell_type": "markdown",
   "metadata": {},
   "source": [
    "## Questão 2\n"
   ]
  },
  {
   "cell_type": "markdown",
   "metadata": {},
   "source": [
    "Temos de resolver o seguinte BVP:\n",
    "\n",
    "$$\n",
    "\\epsilon u'' + 2 (1 - x^2) u = 1 \\tag{1.1}\n",
    "$$\n",
    "\n",
    "sob as condições de contorno:\n",
    "\n",
    "$$\n",
    "u(-1) = u(1) = 0 \\tag{1.2}\n",
    "$$.\n",
    "\n",
    "O *ansatz* é dado, sendo as funções base $\\phi_j(x) = \\sin(j \\pi x)$ e a aproximação da solução é uma combinação linear:\n",
    "$$\n",
    "u(x) \\approx u_h(x) = \\sum_j^N c_j \\phi_j(x) \\tag{2}\n",
    "$$\n",
    "\n",
    "Observemos que: \n",
    "* As funções base respeitam as condições de contorno;\n",
    "* Trataremos o domínio como sendo $D = (-1, 1)$;\n",
    "* $N$ é a dimensão do espaço de funções usado."
   ]
  },
  {
   "cell_type": "markdown",
   "metadata": {},
   "source": [
    "A idéia geral de resolução é: \n",
    "1. Aplicar $u_h$ a $(1.1)$;\n",
    "2. Usar o método de Galerkin para encontrar um sistema linear de equações;\n",
    "3. Resolver o sistema linear encontrado, obtendo os coeficientes $c_j$ das funções da base"
   ]
  },
  {
   "cell_type": "markdown",
   "metadata": {},
   "source": [
    "O método de Galerkin exige que, para que $u_h(x)$ resolva a EDO, temos que garantir que\n",
    "$$\\int_{-1}^{1} r(x)\\phi_i(x) \\, dx = 0$$ \n",
    "com $r(x) = \\epsilon u_h'' + 2(1 - x^2)u_h + u_h^2 - 1$, obtido substituindo $u_h$ no na EDO."
   ]
  },
  {
   "cell_type": "markdown",
   "metadata": {},
   "source": [
    "Agora, reescrevendo $u_h$ como combinação linear das funções da base, chegamos a\n",
    "$$\\int_{-1}^{1} \\left( \\epsilon \\left( \\sum_j^{N} c_j \\phi_j'' \\right) + 2(1 - x^2)\\left( \\sum_j^{N} c_j \\phi_j \\right) + \\left( \\sum_j^{N} c_j \\phi_j \\right)^2 - 1 \\right) \\phi_i \\, dx = 0$$\n"
   ]
  },
  {
   "cell_type": "markdown",
   "metadata": {},
   "source": [
    "Podemos observar um número de coisas. Em primeiro lugar, a paridade de $\\phi_j = \\sin(j \\pi x)$, considerada juntamente à simetria do domínio de integração, e o uso das condições de contorno nos resultados das integrações por partes ajudam a simplificar largamente as integrais. Por exemplo, observe que $\\left( \\sum_j^{N} c_j \\phi_j \\right)$ é soma de funções ímpar, então é ímpar; $\\left( \\sum_j^{N} c_j \\phi_j \\right)^2$, no entanto, é par. $\\phi_i$, por sua vez, é impar. Logo $\\left( \\sum_j^{N} c_j \\phi_j \\right)^2\\phi_i$ é uma função ímpar, e sua integral sobre $D$ é nula. O mesmo vale pra integral do último termo, $-\\phi_i$. Com isso, ficamos apenas com:\n",
    "$$\\int_{-1}^{1} r(x)\\phi_i(x) \\, dx = \\int_{-1}^{1}  \\sum_{j}^{N} c_j \\left( \\epsilon \\phi_j'' + 2(1 - x^2)\\phi_j \\right) \\phi_i \\, dx = 0$$"
   ]
  },
  {
   "cell_type": "markdown",
   "metadata": {},
   "source": [
    "Como a integral independe de $j$, podemos reescrever a equação acima como (chamando $(1 - x^2)$ de $\\alpha$):\n",
    "$$\n",
    "  \\sum_{j}^{N} c_j \\int_{-1}^{1}\\left( \\epsilon \\phi_j'' + 2\\alpha\\phi_j \\right) \\phi_i \\, dx = 0\n",
    "$$\n",
    "mais ainda, como \n",
    "$$\\sum_{j}^{N} c_j \\left( \\epsilon \\int_{-1}^{1} \\phi_j'' \\phi_i \\, dx + 2 \\int_{-1}^{1} \\alpha\\phi_j \\phi_i \\, dx \\right) = 0$$"
   ]
  },
  {
   "cell_type": "markdown",
   "metadata": {},
   "source": [
    "Consideremos a primeira integral. Integrando por partes e aplicando a condição de contorno, obtemos $-\\epsilon \\int_{-1}^{1} \\phi_j' \\phi_i' \\, dx$, e ficamos com\n",
    "$$\\sum_{j}^{N} c_j \\left( -\\epsilon \\int_{-1}^{1} \\phi_j' \\phi_i' \\, dx + 2 \\int_{-1}^{1} \\alpha\\phi_j \\phi_i \\, dx \\right) = 0$$"
   ]
  },
  {
   "cell_type": "markdown",
   "metadata": {},
   "source": [
    "Bom, há aqui, agora, um grande problema. Podemos observar, a partir da equação $(4.70)$ do livro (p. 95), que pra que tenhamos um sistema linear bem definido, temos que ter um termo que não dependa de $u_h$, ou, mais especificamente, de $j$, dependendo só da $\\phi_i$ multiplicada e de $x$. Com o que temos, o sistema que encontramos é\n",
    "$$\n",
    "\\mathrm{A}_{ij} = -\\epsilon \\int_{-1}^{1} \\phi_j' \\phi_i' \\, dx + 2 \\int_{-1}^{1} \\alpha\\phi_j \\phi_i \\, dx \\\\\n",
    "\\mathbf{c} = [c_j]^T \\\\\n",
    "\\mathbf{f} = [f_i]^T \\\\\n",
    "f_i = -\\int_{-1}^{1} \\phi_i \\, dx\n",
    "$$\n"
   ]
  },
  {
   "cell_type": "markdown",
   "metadata": {},
   "source": [
    "O que nos dá o sistema $\\mathrm{A}\\mathbf{c} = \\mathbf{f}$. Mas, como observamos, $f_i = -\\int_{-1}^{1} \\sin(i \\pi x) \\, dx = 0$. De fato, calculando a integral indefinida obtemos $\\frac{-1}{i \\pi} \\cos(i \\pi x)$, o que implica\n",
    "$$\n",
    "-\\int_{-1}^{1} \\sin(i \\pi x) , dx =-\\left[\\frac{-1}{i \\pi} \\cos(i \\pi x)\\right]_{-1}^1 = - \\left(\\frac{-1}{i \\pi} \\cos(i \\pi x) \\bigg|_1 - \\frac{-1}{i \\pi} \\cos(i \\pi x) \\bigg|_{-1} \\right)\\\\\n",
    "= - \\left(\\frac{-1}{i \\pi} (-1) - \\frac{-1}{i \\pi} (-1)\\right) = -\\left(\\frac{1}{i \\pi} - \\frac{1}{i \\pi} \\right)= -0\n",
    "$$"
   ]
  },
  {
   "cell_type": "markdown",
   "metadata": {},
   "source": [
    "Logo $\\mathrm{A}\\mathbf{c} = \\mathbf{f} = \\mathbf{0}$, que é um sistema homogêneo. Então não tem solução não-trivial; dependendo da $\\mathrm{A}$, vai ter infinitas soluções não triviais ou uma única, $\\mathrm{0}$. De qualquer forma, façamos um código pra resolvê-lo, integrando numericamente os coeficientes de $\\mathrm{A}$."
   ]
  },
  {
   "cell_type": "code",
   "execution_count": 1,
   "metadata": {},
   "outputs": [
    {
     "name": "stdout",
     "output_type": "stream",
     "text": [
      "A = [[-8.43494988e+00  3.60253097e-01 -7.59908877e-02]\n",
      " [ 3.60253097e-01 -3.81197540e+01  3.89073345e-01]\n",
      " [-7.59908877e-02  3.89073345e-01 -8.74818484e+01]] \n",
      "\n",
      "The determinant of A is non-zero and equals -28115.928028397608. Hence no non-trivial solutions and the solution is 0.\n"
     ]
    },
    {
     "data": {
      "text/plain": [
       "array([-0., -0., -0.])"
      ]
     },
     "execution_count": 1,
     "metadata": {},
     "output_type": "execute_result"
    }
   ],
   "source": [
    "import numpy as np\n",
    "from scipy.integrate import quad\n",
    "from scipy.linalg import solve\n",
    "from scipy.linalg import det\n",
    "\n",
    "# Define the basis function and its derivative\n",
    "def phi(i, x):\n",
    "    return np.sin(i * np.pi * x)\n",
    "\n",
    "def dphi(i, x):\n",
    "    return i * np.pi * np.cos(i * np.pi * x)\n",
    "\n",
    "\n",
    "# Integral calculations\n",
    "def compute_Aij(i, j, epsilon):\n",
    "    integral1, _ = quad(lambda x: -epsilon * dphi(i, x) * dphi(j, x), -1, 1)\n",
    "    integral2, _ = quad(lambda x: 2 * (1-x**2) * phi(i, x) * phi(j, x), -1, 1)\n",
    "    return integral1 + integral2\n",
    "\n",
    "def compute_fi(i):\n",
    "    integral, _ = quad(lambda x: -phi(i, x), -1, 1)\n",
    "    return integral\n",
    "\n",
    "# Parameters\n",
    "epsilon = 1  # This should be set to a specific value\n",
    "N = 3         # Number of basis functions (dimension of the system)\n",
    "\n",
    "# Constructing the matrix A and vector f\n",
    "A = np.zeros((N, N))\n",
    "f = np.zeros(N)\n",
    "\n",
    "for i in range(1, N + 1):\n",
    "    f[i - 1] = compute_fi(i)\n",
    "    for j in range(1, N + 1):\n",
    "        A[i - 1, j - 1] = compute_Aij(i, j, epsilon)\n",
    "print(f\"A = {A} \\n\")\n",
    "det_A = det(A)\n",
    "\n",
    "if det_A == 0:\n",
    "    print(f\"The determinant of A is {det_A}. Hence either no or infinite solutions.\")\n",
    "else:\n",
    "    print(f\"The determinant of A is non-zero and equals {det_A}. Hence no non-trivial solutions and the solution is 0.\")\n",
    "\n",
    "# Solve the linear system Ac = f\n",
    "c = solve(A, f)\n",
    "c\n",
    "\n"
   ]
  },
  {
   "cell_type": "markdown",
   "metadata": {},
   "source": [
    "Como podemos ver no código acima, o determinante de $\\mathrm{A}$ de fato é não nulo (ele varia com $\\epsilon$ e $N$, e é uma questão se pra algum ele é zero, mas eu testei pra valores críticos e $\\det A$ parece, efetivamente, sempre não nulo). Nesse caso, a solução é única: $\\mathbf{c} = \\mathbf{0}$, como confirmado no snippet acima."
   ]
  }
 ],
 "metadata": {
  "kernelspec": {
   "display_name": "Python 3",
   "language": "python",
   "name": "python3"
  },
  "language_info": {
   "codemirror_mode": {
    "name": "ipython",
    "version": 3
   },
   "file_extension": ".py",
   "mimetype": "text/x-python",
   "name": "python",
   "nbconvert_exporter": "python",
   "pygments_lexer": "ipython3",
   "version": "3.10.6"
  }
 },
 "nbformat": 4,
 "nbformat_minor": 2
}
