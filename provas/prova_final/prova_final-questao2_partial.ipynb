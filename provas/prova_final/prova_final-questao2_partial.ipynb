{
 "cells": [
  {
   "cell_type": "markdown",
   "metadata": {},
   "source": [
    "# **Prova Final: Computação Científica II - 2023**\n",
    "##### **Data**: 30/11/2023 - 03/12/2023\n",
    "##### **Alune**: Igor Lima Strozzi\n",
    "##### **DRE**: 112040449"
   ]
  },
  {
   "cell_type": "markdown",
   "metadata": {},
   "source": [
    "## Questão 2\n"
   ]
  },
  {
   "cell_type": "markdown",
   "metadata": {},
   "source": [
    "Temos de resolver o seguinte BVP:\n",
    "\n",
    "$$\n",
    "\\epsilon u'' + 2 (1 - x^2) u = 1 \\tag{1.1}\n",
    "$$\n",
    "\n",
    "sob as condições de contorno:\n",
    "\n",
    "$$\n",
    "u(-1) = u(1) = 0 \\tag{1.2}\n",
    "$$.\n",
    "\n",
    "O *ansatz* é dado, sendo as funções base $\\phi_j(x) = \\sin(j \\pi x)$ e a aproximação da solução é uma combinação linear:\n",
    "$$\n",
    "u(x) \\approx u_h(x) = \\sum_j^N c_j \\phi_j(x) \\tag{2}\n",
    "$$\n",
    "\n",
    "Observemos que: \n",
    "* As funções base respeitam as condições de contorno;\n",
    "* Trataremos o domínio como sendo $D = (-1, 1)$;\n",
    "* $N$ é a dimensão do espaço de funções usado."
   ]
  },
  {
   "cell_type": "markdown",
   "metadata": {},
   "source": [
    "A idéia geral de resolução é: \n",
    "1. Aplicar $u_h$ a $(1.1)$;\n",
    "2. Usar o método de Galerkin para encontrar um sistema linear de equações;\n",
    "3. Resolver o sistema linear encontrado, obtendo os coeficientes $c_j$ das funções da base"
   ]
  },
  {
   "cell_type": "markdown",
   "metadata": {},
   "source": [
    "O método de Galerkin exige que, para que $u_h(x)$ resolva a EDO, temos que garantir que\n",
    "$$\\int_{-1}^{1} r(x)\\phi_i(x) \\, dx = 0$$ \n",
    "com $r(x) = \\epsilon u_h'' + 2(1 - x^2)u_h + u_h^2 - 1$, obtido substituindo $u_h$ no na EDO."
   ]
  },
  {
   "cell_type": "markdown",
   "metadata": {},
   "source": [
    "Agora, reescrevendo $u_h$ como combinação linear das funções da base, chegamos a\n",
    "$$\\int_{-1}^{1} \\left( \\epsilon \\left( \\sum_j^{N} c_j \\phi_j'' \\right) + 2(1 - x^2)\\left( \\sum_j^{N} c_j \\phi_j \\right) + \\left( \\sum_j^{N} c_j \\phi_j \\right)^2 - 1 \\right) \\phi_i \\, dx = 0$$\n"
   ]
  },
  {
   "cell_type": "markdown",
   "metadata": {},
   "source": [
    "Podemos observar um número de coisas. Em primeiro lugar, a paridade de $\\phi_j = \\sin(j \\pi x)$, considerada juntamente à simetria do domínio de integração, e o uso das condições de contorno nos resultados das integrações por partes ajudam a simplificar largamente as integrais. Por exemplo, observe que $\\left( \\sum_j^{N} c_j \\phi_j \\right)$ é soma de funções ímpar, então é ímpar; $\\left( \\sum_j^{N} c_j \\phi_j \\right)^2$, no entanto, é par. $\\phi_i$, por sua vez, é impar. Logo $\\left( \\sum_j^{N} c_j \\phi_j \\right)^2\\phi_i$ é uma função ímpar, e sua integral sobre $D$ é nula. O mesmo vale pra integral do último termo, $-\\phi_i$. Com isso, ficamos apenas com:\n",
    "$$\\int_{-1}^{1} r(x)\\phi_i(x) \\, dx = \\int_{-1}^{1}  \\sum_{j}^{N} c_j \\left( \\epsilon \\phi_j'' + 2(1 - x^2)\\phi_j \\right) \\phi_i \\, dx = 0$$"
   ]
  },
  {
   "cell_type": "markdown",
   "metadata": {},
   "source": [
    "Como a integral independe de $j$, podemos reescrever a equação acima como (chamando $(1 - x^2)$ de $\\alpha$):\n",
    "$$\n",
    "  \\sum_{j}^{N} c_j \\int_{-1}^{1}\\left( \\epsilon \\phi_j'' + 2\\alpha\\phi_j \\right) \\phi_i \\, dx = 0\n",
    "$$\n",
    "mais ainda, como \n",
    "$$\\sum_{j}^{N} c_j \\left( \\epsilon \\int_{-1}^{1} \\phi_j'' \\phi_i \\, dx + 2 \\int_{-1}^{1} \\alpha\\phi_j \\phi_i \\, dx \\right) = 0$$"
   ]
  },
  {
   "cell_type": "markdown",
   "metadata": {},
   "source": [
    "Consideremos a primeira integral. Integrando por partes e aplicando a condição de contorno, obtemos $-\\epsilon \\int_{-1}^{1} \\phi_j' \\phi_i' \\, dx$, e ficamos com\n",
    "$$\\sum_{j}^{N} c_j \\left( -\\epsilon \\int_{-1}^{1} \\phi_j' \\phi_i' \\, dx + 2 \\int_{-1}^{1} \\alpha\\phi_j \\phi_i \\, dx \\right) = 0$$"
   ]
  }
 ],
 "metadata": {
  "kernelspec": {
   "display_name": "Python 3",
   "language": "python",
   "name": "python3"
  },
  "language_info": {
   "codemirror_mode": {
    "name": "ipython",
    "version": 3
   },
   "file_extension": ".py",
   "mimetype": "text/x-python",
   "name": "python",
   "nbconvert_exporter": "python",
   "pygments_lexer": "ipython3",
   "version": "3.11.3"
  }
 },
 "nbformat": 4,
 "nbformat_minor": 2
}
