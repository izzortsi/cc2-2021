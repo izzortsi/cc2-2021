{
 "cells": [
  {
   "cell_type": "markdown",
   "metadata": {},
   "source": [
    "# **Prova Final: Computação Científica II - 2023**\n",
    "##### **Data**: 30/11/2023 - 03/12/2023\n",
    "##### **Alune**: Igor Lima Strozzi\n",
    "##### **DRE**: 112040449\n",
    "\n",
    "**Observação**: vou escrever em inglês, estou mais acostumado."
   ]
  },
  {
   "cell_type": "markdown",
   "metadata": {},
   "source": [
    "## Questão 1\n"
   ]
  },
  {
   "cell_type": "markdown",
   "metadata": {},
   "source": [
    "Temos o problema de contorno definido por, para $ (x, y) \\in (0, 1)^2 $ ,\n",
    "\\begin{gather}\n",
    "\t-\\nabla(\\kappa\\nabla T) = 0 \\texttt{;} \\\\\n",
    "\tT(x, 0) = T(x, 1) = a \\texttt{;} \\\\\n",
    "\tT(0, y) = b \\texttt{;} \\\\\n",
    "\t-\\kappa \\frac{\\partial T}{\\partial x}(1, y) = h(T - T_{\\text{out}})\\texttt{.}\n",
    "\\end{gather}"
   ]
  },
  {
   "cell_type": "markdown",
   "metadata": {},
   "source": [
    "É imediato observar que, de $(1)$ acima, temos $-\\left( \\frac{\\partial}{\\partial x}\\left(\\kappa \\frac{\\partial T}{\\partial x}\\right) + \\frac{\\partial}{\\partial y}\\left(\\kappa \\frac{\\partial T}{\\partial y}\\right) \\right) = - \\left(\\left( \\kappa \\frac{\\partial^2 T}{\\partial x^2}\\right) + \\left( \\kappa \\frac{\\partial^2 T}{\\partial y^2}\\right)\\right)$, portanto (sendo $\\kappa > 0$), $b^2 - ac = 0^2 - (-\\kappa)^2 < 0$, e portanto a equação $(1)$ é uma equação diferencial parcial elíptica.\n"
   ]
  },
  {
   "cell_type": "code",
   "execution_count": 2,
   "metadata": {},
   "outputs": [],
   "source": [
    "%load_ext itikz"
   ]
  },
  {
   "cell_type": "code",
   "execution_count": 3,
   "metadata": {},
   "outputs": [
    {
     "ename": "FileNotFoundError",
     "evalue": "[WinError 2] The system cannot find the file specified",
     "output_type": "error",
     "traceback": [
      "\u001b[1;31m---------------------------------------------------------------------------\u001b[0m",
      "\u001b[1;31mFileNotFoundError\u001b[0m                         Traceback (most recent call last)",
      "\u001b[1;32mc:\\Users\\igor-\\.cloned\\cc2-2021\\provas\\prova_final\\prova_final.ipynb Cell 6\u001b[0m line \u001b[0;36m1\n\u001b[1;32m----> <a href='vscode-notebook-cell:/c%3A/Users/igor-/.cloned/cc2-2021/provas/prova_final/prova_final.ipynb#X13sZmlsZQ%3D%3D?line=0'>1</a>\u001b[0m get_ipython()\u001b[39m.\u001b[39;49mrun_cell_magic(\u001b[39m'\u001b[39;49m\u001b[39mitikz\u001b[39;49m\u001b[39m'\u001b[39;49m, \u001b[39m'\u001b[39;49m\u001b[39m'\u001b[39;49m, \u001b[39m'\u001b[39;49m\u001b[39m\\\\\u001b[39;49;00m\u001b[39mdocumentclass[tikz]\u001b[39;49m\u001b[39m{standalone}\u001b[39;49;00m\u001b[39m\\n\u001b[39;49;00m\u001b[39m\\\\\u001b[39;49;00m\u001b[39mbegin\u001b[39;49m\u001b[39m{document}\u001b[39;49;00m\u001b[39m\\n\u001b[39;49;00m\u001b[39m\\\\\u001b[39;49;00m\u001b[39mbegin\u001b[39;49m\u001b[39m{tikzpicture}\u001b[39;49;00m\u001b[39m\\n\u001b[39;49;00m\u001b[39m\\\\\u001b[39;49;00m\u001b[39mdraw[help lines] grid (5, 5);\u001b[39;49m\u001b[39m\\n\u001b[39;49;00m\u001b[39m\\\\\u001b[39;49;00m\u001b[39mdraw[fill=black] (1, 1) rectangle (2, 2);\u001b[39;49m\u001b[39m\\n\u001b[39;49;00m\u001b[39m\\\\\u001b[39;49;00m\u001b[39mdraw[fill=black] (2, 1) rectangle (3, 2);\u001b[39;49m\u001b[39m\\n\u001b[39;49;00m\u001b[39m\\\\\u001b[39;49;00m\u001b[39mdraw[fill=black] (3, 1) rectangle (4, 2);\u001b[39;49m\u001b[39m\\n\u001b[39;49;00m\u001b[39m\\\\\u001b[39;49;00m\u001b[39mdraw[fill=black] (3, 2) rectangle (4, 3);\u001b[39;49m\u001b[39m\\n\u001b[39;49;00m\u001b[39m\\\\\u001b[39;49;00m\u001b[39mdraw[fill=black] (2, 3) rectangle (3, 4);\u001b[39;49m\u001b[39m\\n\u001b[39;49;00m\u001b[39m\\\\\u001b[39;49;00m\u001b[39mend\u001b[39;49m\u001b[39m{tikzpicture}\u001b[39;49;00m\u001b[39m\\n\u001b[39;49;00m\u001b[39m\\\\\u001b[39;49;00m\u001b[39mend\u001b[39;49m\u001b[39m{document}\u001b[39;49;00m\u001b[39m\\n\u001b[39;49;00m\u001b[39m'\u001b[39;49m)\n",
      "File \u001b[1;32mc:\\Users\\igor-\\AppData\\Local\\Programs\\Python\\Python310\\lib\\site-packages\\IPython\\core\\interactiveshell.py:2478\u001b[0m, in \u001b[0;36mInteractiveShell.run_cell_magic\u001b[1;34m(self, magic_name, line, cell)\u001b[0m\n\u001b[0;32m   2476\u001b[0m \u001b[39mwith\u001b[39;00m \u001b[39mself\u001b[39m\u001b[39m.\u001b[39mbuiltin_trap:\n\u001b[0;32m   2477\u001b[0m     args \u001b[39m=\u001b[39m (magic_arg_s, cell)\n\u001b[1;32m-> 2478\u001b[0m     result \u001b[39m=\u001b[39m fn(\u001b[39m*\u001b[39margs, \u001b[39m*\u001b[39m\u001b[39m*\u001b[39mkwargs)\n\u001b[0;32m   2480\u001b[0m \u001b[39m# The code below prevents the output from being displayed\u001b[39;00m\n\u001b[0;32m   2481\u001b[0m \u001b[39m# when using magics with decodator @output_can_be_silenced\u001b[39;00m\n\u001b[0;32m   2482\u001b[0m \u001b[39m# when the last Python token in the expression is a ';'.\u001b[39;00m\n\u001b[0;32m   2483\u001b[0m \u001b[39mif\u001b[39;00m \u001b[39mgetattr\u001b[39m(fn, magic\u001b[39m.\u001b[39mMAGIC_OUTPUT_CAN_BE_SILENCED, \u001b[39mFalse\u001b[39;00m):\n",
      "File \u001b[1;32mc:\\Users\\igor-\\AppData\\Local\\Programs\\Python\\Python310\\lib\\site-packages\\itikz\\__init__.py:227\u001b[0m, in \u001b[0;36mTikZMagics.itikz\u001b[1;34m(self, line, cell)\u001b[0m\n\u001b[0;32m    224\u001b[0m     tmpl_args \u001b[39m=\u001b[39m build_template_args(src, args)\n\u001b[0;32m    225\u001b[0m     src \u001b[39m=\u001b[39m IMPLICIT_STANDALONE\u001b[39m.\u001b[39msubstitute(tmpl_args)\n\u001b[1;32m--> 227\u001b[0m svg \u001b[39m=\u001b[39m fetch_or_compile_svg(src, args\u001b[39m.\u001b[39;49mfile_prefix, get_cwd(args),\n\u001b[0;32m    228\u001b[0m                            args\u001b[39m.\u001b[39;49mfull_err, args\u001b[39m.\u001b[39;49mtex_program)\n\u001b[0;32m    230\u001b[0m \u001b[39mif\u001b[39;00m svg \u001b[39mis\u001b[39;00m \u001b[39mNone\u001b[39;00m:\n\u001b[0;32m    231\u001b[0m     \u001b[39mreturn\u001b[39;00m \u001b[39mNone\u001b[39;00m\n",
      "File \u001b[1;32mc:\\Users\\igor-\\AppData\\Local\\Programs\\Python\\Python310\\lib\\site-packages\\itikz\\__init__.py:138\u001b[0m, in \u001b[0;36mfetch_or_compile_svg\u001b[1;34m(src, prefix, working_dir, full_err, tex_program)\u001b[0m\n\u001b[0;32m    136\u001b[0m \u001b[39mtry\u001b[39;00m:\n\u001b[0;32m    137\u001b[0m     check_output([tex_program, tex_filename], cwd\u001b[39m=\u001b[39mworking_dir)\n\u001b[1;32m--> 138\u001b[0m     check_output([\u001b[39m\"\u001b[39;49m\u001b[39mpdf2svg\u001b[39;49m\u001b[39m\"\u001b[39;49m, pdf_path, svg_path], cwd\u001b[39m=\u001b[39;49mworking_dir)\n\u001b[0;32m    139\u001b[0m \u001b[39mexcept\u001b[39;00m CalledProcessError \u001b[39mas\u001b[39;00m e:\n\u001b[0;32m    140\u001b[0m     cleanup_artifacts(working_dir, src_hash)\n",
      "File \u001b[1;32mc:\\Users\\igor-\\AppData\\Local\\Programs\\Python\\Python310\\lib\\subprocess.py:420\u001b[0m, in \u001b[0;36mcheck_output\u001b[1;34m(timeout, *popenargs, **kwargs)\u001b[0m\n\u001b[0;32m    417\u001b[0m         empty \u001b[39m=\u001b[39m \u001b[39mb\u001b[39m\u001b[39m'\u001b[39m\u001b[39m'\u001b[39m\n\u001b[0;32m    418\u001b[0m     kwargs[\u001b[39m'\u001b[39m\u001b[39minput\u001b[39m\u001b[39m'\u001b[39m] \u001b[39m=\u001b[39m empty\n\u001b[1;32m--> 420\u001b[0m \u001b[39mreturn\u001b[39;00m run(\u001b[39m*\u001b[39mpopenargs, stdout\u001b[39m=\u001b[39mPIPE, timeout\u001b[39m=\u001b[39mtimeout, check\u001b[39m=\u001b[39m\u001b[39mTrue\u001b[39;00m,\n\u001b[0;32m    421\u001b[0m            \u001b[39m*\u001b[39m\u001b[39m*\u001b[39mkwargs)\u001b[39m.\u001b[39mstdout\n",
      "File \u001b[1;32mc:\\Users\\igor-\\AppData\\Local\\Programs\\Python\\Python310\\lib\\subprocess.py:501\u001b[0m, in \u001b[0;36mrun\u001b[1;34m(input, capture_output, timeout, check, *popenargs, **kwargs)\u001b[0m\n\u001b[0;32m    498\u001b[0m     kwargs[\u001b[39m'\u001b[39m\u001b[39mstdout\u001b[39m\u001b[39m'\u001b[39m] \u001b[39m=\u001b[39m PIPE\n\u001b[0;32m    499\u001b[0m     kwargs[\u001b[39m'\u001b[39m\u001b[39mstderr\u001b[39m\u001b[39m'\u001b[39m] \u001b[39m=\u001b[39m PIPE\n\u001b[1;32m--> 501\u001b[0m \u001b[39mwith\u001b[39;00m Popen(\u001b[39m*\u001b[39mpopenargs, \u001b[39m*\u001b[39m\u001b[39m*\u001b[39mkwargs) \u001b[39mas\u001b[39;00m process:\n\u001b[0;32m    502\u001b[0m     \u001b[39mtry\u001b[39;00m:\n\u001b[0;32m    503\u001b[0m         stdout, stderr \u001b[39m=\u001b[39m process\u001b[39m.\u001b[39mcommunicate(\u001b[39minput\u001b[39m, timeout\u001b[39m=\u001b[39mtimeout)\n",
      "File \u001b[1;32mc:\\Users\\igor-\\AppData\\Local\\Programs\\Python\\Python310\\lib\\subprocess.py:969\u001b[0m, in \u001b[0;36mPopen.__init__\u001b[1;34m(self, args, bufsize, executable, stdin, stdout, stderr, preexec_fn, close_fds, shell, cwd, env, universal_newlines, startupinfo, creationflags, restore_signals, start_new_session, pass_fds, user, group, extra_groups, encoding, errors, text, umask, pipesize)\u001b[0m\n\u001b[0;32m    965\u001b[0m         \u001b[39mif\u001b[39;00m \u001b[39mself\u001b[39m\u001b[39m.\u001b[39mtext_mode:\n\u001b[0;32m    966\u001b[0m             \u001b[39mself\u001b[39m\u001b[39m.\u001b[39mstderr \u001b[39m=\u001b[39m io\u001b[39m.\u001b[39mTextIOWrapper(\u001b[39mself\u001b[39m\u001b[39m.\u001b[39mstderr,\n\u001b[0;32m    967\u001b[0m                     encoding\u001b[39m=\u001b[39mencoding, errors\u001b[39m=\u001b[39merrors)\n\u001b[1;32m--> 969\u001b[0m     \u001b[39mself\u001b[39;49m\u001b[39m.\u001b[39;49m_execute_child(args, executable, preexec_fn, close_fds,\n\u001b[0;32m    970\u001b[0m                         pass_fds, cwd, env,\n\u001b[0;32m    971\u001b[0m                         startupinfo, creationflags, shell,\n\u001b[0;32m    972\u001b[0m                         p2cread, p2cwrite,\n\u001b[0;32m    973\u001b[0m                         c2pread, c2pwrite,\n\u001b[0;32m    974\u001b[0m                         errread, errwrite,\n\u001b[0;32m    975\u001b[0m                         restore_signals,\n\u001b[0;32m    976\u001b[0m                         gid, gids, uid, umask,\n\u001b[0;32m    977\u001b[0m                         start_new_session)\n\u001b[0;32m    978\u001b[0m \u001b[39mexcept\u001b[39;00m:\n\u001b[0;32m    979\u001b[0m     \u001b[39m# Cleanup if the child failed starting.\u001b[39;00m\n\u001b[0;32m    980\u001b[0m     \u001b[39mfor\u001b[39;00m f \u001b[39min\u001b[39;00m \u001b[39mfilter\u001b[39m(\u001b[39mNone\u001b[39;00m, (\u001b[39mself\u001b[39m\u001b[39m.\u001b[39mstdin, \u001b[39mself\u001b[39m\u001b[39m.\u001b[39mstdout, \u001b[39mself\u001b[39m\u001b[39m.\u001b[39mstderr)):\n",
      "File \u001b[1;32mc:\\Users\\igor-\\AppData\\Local\\Programs\\Python\\Python310\\lib\\subprocess.py:1438\u001b[0m, in \u001b[0;36mPopen._execute_child\u001b[1;34m(self, args, executable, preexec_fn, close_fds, pass_fds, cwd, env, startupinfo, creationflags, shell, p2cread, p2cwrite, c2pread, c2pwrite, errread, errwrite, unused_restore_signals, unused_gid, unused_gids, unused_uid, unused_umask, unused_start_new_session)\u001b[0m\n\u001b[0;32m   1436\u001b[0m \u001b[39m# Start the process\u001b[39;00m\n\u001b[0;32m   1437\u001b[0m \u001b[39mtry\u001b[39;00m:\n\u001b[1;32m-> 1438\u001b[0m     hp, ht, pid, tid \u001b[39m=\u001b[39m _winapi\u001b[39m.\u001b[39;49mCreateProcess(executable, args,\n\u001b[0;32m   1439\u001b[0m                              \u001b[39m# no special security\u001b[39;49;00m\n\u001b[0;32m   1440\u001b[0m                              \u001b[39mNone\u001b[39;49;00m, \u001b[39mNone\u001b[39;49;00m,\n\u001b[0;32m   1441\u001b[0m                              \u001b[39mint\u001b[39;49m(\u001b[39mnot\u001b[39;49;00m close_fds),\n\u001b[0;32m   1442\u001b[0m                              creationflags,\n\u001b[0;32m   1443\u001b[0m                              env,\n\u001b[0;32m   1444\u001b[0m                              cwd,\n\u001b[0;32m   1445\u001b[0m                              startupinfo)\n\u001b[0;32m   1446\u001b[0m \u001b[39mfinally\u001b[39;00m:\n\u001b[0;32m   1447\u001b[0m     \u001b[39m# Child is launched. Close the parent's copy of those pipe\u001b[39;00m\n\u001b[0;32m   1448\u001b[0m     \u001b[39m# handles that only the child should have open.  You need\u001b[39;00m\n\u001b[1;32m   (...)\u001b[0m\n\u001b[0;32m   1451\u001b[0m     \u001b[39m# pipe will not close when the child process exits and the\u001b[39;00m\n\u001b[0;32m   1452\u001b[0m     \u001b[39m# ReadFile will hang.\u001b[39;00m\n\u001b[0;32m   1453\u001b[0m     \u001b[39mself\u001b[39m\u001b[39m.\u001b[39m_close_pipe_fds(p2cread, p2cwrite,\n\u001b[0;32m   1454\u001b[0m                          c2pread, c2pwrite,\n\u001b[0;32m   1455\u001b[0m                          errread, errwrite)\n",
      "\u001b[1;31mFileNotFoundError\u001b[0m: [WinError 2] The system cannot find the file specified"
     ]
    }
   ],
   "source": [
    "%%itikz\n",
    "\\documentclass[tikz]{standalone}\n",
    "\\begin{document}\n",
    "\\begin{tikzpicture}\n",
    "\\draw[help lines] grid (5, 5);\n",
    "\\draw[fill=black] (1, 1) rectangle (2, 2);\n",
    "\\draw[fill=black] (2, 1) rectangle (3, 2);\n",
    "\\draw[fill=black] (3, 1) rectangle (4, 2);\n",
    "\\draw[fill=black] (3, 2) rectangle (4, 3);\n",
    "\\draw[fill=black] (2, 3) rectangle (3, 4);\n",
    "\\end{tikzpicture}\n",
    "\\end{document}"
   ]
  },
  {
   "cell_type": "markdown",
   "metadata": {},
   "source": [
    "%%itikz\n",
    "\\documentclass[tikz]{standalone}\n",
    "\\begin{document}\n",
    "\t\\begin{tikzpicture}\n",
    "\t\t% Draw a 3x4 grid with dashed lines\n",
    "\t\t\\draw[step=1cm,gray,very thin, dashed] (0,0) grid (3,4);\n",
    "\t\t\n",
    "\t\t% Draw the boundary of the grid\n",
    "\t\t\\draw[thick] (0,0) -- (0,4) -- (3,4) -- (3,0) -- cycle;\n",
    "\t\t\n",
    "\t\t% Place dots at each intersection of the grid\n",
    "\t\t\\foreach \\x in {0,1,2,3}\n",
    "\t\t\\foreach \\y in {0,1,2,3,4}\n",
    "\t\t\\filldraw[black] (\\x,\\y) circle (2pt);\n",
    "\t\t\n",
    "\t\t% Add labels next to the grid\n",
    "\t\t\\node at (-0.5, 2) {$b$};\n",
    "\t\t\\node at (1.5, 4.5) {$a$};\n",
    "\t\t\\node at (1.5, -0.5) {$a$};\n",
    "\t\t\\node[align=center] at (4.8, 2) {$-\\kappa \\frac{\\partial T}{\\partial x}$ \\\\ $= h(T - T_{\\text{out}})$};\n",
    "\t\\end{tikzpicture}\n",
    "\\end{document}"
   ]
  },
  {
   "cell_type": "markdown",
   "metadata": {},
   "source": []
  }
 ],
 "metadata": {
  "kernelspec": {
   "display_name": "Python 3",
   "language": "python",
   "name": "python3"
  },
  "language_info": {
   "codemirror_mode": {
    "name": "ipython",
    "version": 3
   },
   "file_extension": ".py",
   "mimetype": "text/x-python",
   "name": "python",
   "nbconvert_exporter": "python",
   "pygments_lexer": "ipython3",
   "version": "3.10.6"
  }
 },
 "nbformat": 4,
 "nbformat_minor": 2
}
