{
 "cells": [
  {
   "cell_type": "markdown",
   "metadata": {},
   "source": [
    "### **Exercício 1.2.1**:\n",
    "\n",
    "Suponha $a = \\mu + i\\omega$. Seja $z(t) = e^{(at)} = e^{(\\mu + i\\omega)t}$. Da fórmula de Euler pra exponencial complexa, tem-se que: $e^{i\\theta} = \\cos \\theta + i \\sin \\theta$. Então podemos escrever $z(t)$ como: \n",
    "$$e^{(\\mu + i\\omega)t} = e^{t\\mu}\\cdot e^{i\\omega t} = e^{t\\mu} \\cdot (\\cos \\omega t + i \\sin \\omega t).$$\n",
    "\n",
    "Consequentemente, $\\mathrm{Re}(z(t)) = e^{t\\mu} \\cdot \\cos \\omega t$ e $\\mathrm{Im}(z(t)) = e^{t\\mu} \\cdot i \\sin \\omega t$.\n",
    "\n"
   ]
  },
  {
   "cell_type": "markdown",
   "metadata": {},
   "source": [
    "### **Exercício 1.2.2**:\n",
    "\n",
    "a) É preciso que $e^{t\\mu}$ seja crescente e que $\\cos \\omega t$ seja negativo, o que acontece quando $\\mu > 0$ e $\\omega \\in (\\frac{\\pi}{2t}, \\frac{3\\pi}{2t})$\n",
    "\n",
    "b) De forma similar ao item anterior, é preciso que $e^{t\\mu}$ seja crescente, mas que $\\cos \\omega t$ seja positivo. Para isso, temos que ter $\\mu > 0$ e $\\omega \\in (\\frac{\\pi}{2t}, -\\frac{\\pi}{2t})$\n",
    "\n",
    "c) $\\mu = \\frac{k}{t}$ para alguma constante real $k$. $\\omega \\in \\R$ uma constante qualquer.\n",
    "\n",
    "d) $\\mu > 0$. $\\omega$ qualquer.\n",
    "\n",
    "e) $\\mu < 0$. $\\omega$ qualquer."
   ]
  },
  {
   "cell_type": "markdown",
   "metadata": {},
   "source": []
  },
  {
   "cell_type": "code",
   "execution_count": null,
   "metadata": {},
   "outputs": [],
   "source": []
  },
  {
   "cell_type": "markdown",
   "metadata": {},
   "source": []
  },
  {
   "cell_type": "code",
   "execution_count": null,
   "metadata": {},
   "outputs": [],
   "source": []
  }
 ],
 "metadata": {
  "kernelspec": {
   "display_name": "Python 3.9.1 64-bit",
   "name": "python39164bit46e103b4aad24b3c985695793bca1c67"
  },
  "language_info": {
   "codemirror_mode": {
    "name": "ipython",
    "version": 3
   },
   "file_extension": ".py",
   "mimetype": "text/x-python",
   "name": "python",
   "nbconvert_exporter": "python",
   "pygments_lexer": "ipython3",
   "version": "3.9.2-final"
  },
  "orig_nbformat": 2
 },
 "nbformat": 4,
 "nbformat_minor": 2
}