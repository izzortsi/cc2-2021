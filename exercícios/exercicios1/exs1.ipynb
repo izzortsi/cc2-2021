{
 "metadata": {
  "language_info": {
   "codemirror_mode": {
    "name": "ipython",
    "version": 3
   },
   "file_extension": ".py",
   "mimetype": "text/x-python",
   "name": "python",
   "nbconvert_exporter": "python",
   "pygments_lexer": "ipython3",
   "version": "3.9.2-final"
  },
  "orig_nbformat": 2,
  "kernelspec": {
   "name": "python39164bit46e103b4aad24b3c985695793bca1c67",
   "display_name": "Python 3.9.1 64-bit"
  }
 },
 "nbformat": 4,
 "nbformat_minor": 2,
 "cells": [
  {
   "source": [
    "Exercício 1.2.1:\n",
    "\n",
    "Suponha $a = \\mu + i\\omega$. Seja $z(t) = e^{(at)} = e^{(\\mu + i\\omega)t}$. Da fórmula de Euler pra exponencial complexa, tem-se que: $e^{i\\theta} = \\cos \\theta + i \\sin \\theta$. Então podemos escrever $z(t)$ como: \n",
    "$$e^{(\\mu + i\\omega)t} = e^{t\\mu}\\cdot e^{i\\omega t} = e^{t\\mu} \\cdot (\\cos \\omega t + i \\sin \\omega t).$$\n",
    "\n",
    "Consequentemente, $\\mathrm{Re}(z(t)) = e^{t\\mu} \\cdot \\cos \\omega t$ e $\\mathrm{Im}(z(t)) = e^{t\\mu} \\cdot i \\sin \\omega t$.\n",
    "\n"
   ],
   "cell_type": "markdown",
   "metadata": {}
  },
  {
   "source": [
    "Exercício 1.2.2:\n",
    "\n",
    "a) Sendo $t > 0$, se $\\mu < 0 $, como $\\cos \\omega t$ é limitado por $-1,\\, +1$, $t \\rightarrow \\infty \\implies \\mathrm{Re}(z(t)) \\rightarrow 0$, ou seja, basta que $\\mu < 0$.\n",
    "\n",
    "b) "
   ],
   "cell_type": "markdown",
   "metadata": {}
  },
  {
   "source": [],
   "cell_type": "markdown",
   "metadata": {}
  },
  {
   "cell_type": "code",
   "execution_count": null,
   "metadata": {},
   "outputs": [],
   "source": []
  },
  {
   "source": [],
   "cell_type": "markdown",
   "metadata": {}
  },
  {
   "cell_type": "code",
   "execution_count": null,
   "metadata": {},
   "outputs": [],
   "source": []
  }
 ]
}